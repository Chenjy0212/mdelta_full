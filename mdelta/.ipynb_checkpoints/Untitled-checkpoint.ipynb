{
 "cells": [
  {
   "cell_type": "code",
   "execution_count": 5,
   "id": "80a60979-7fd9-4a70-9aea-db05bf77b2f9",
   "metadata": {
    "execution": {
     "iopub.execute_input": "2023-05-21T09:18:16.078439Z",
     "iopub.status.busy": "2023-05-21T09:18:16.077804Z",
     "iopub.status.idle": "2023-05-21T09:18:16.086132Z",
     "shell.execute_reply": "2023-05-21T09:18:16.084969Z",
     "shell.execute_reply.started": "2023-05-21T09:18:16.078387Z"
    },
    "tags": []
   },
   "outputs": [
    {
     "name": "stdout",
     "output_type": "stream",
     "text": [
      "B\n"
     ]
    }
   ],
   "source": [
    "unlike_partA = ['C1','C2','C3','C4','C5','R1','R2']\n",
    "if 'adads_C'.split('_').pop() in unlike_partA:\n",
    "    print( 'A')\n",
    "else:\n",
    "    print( 'B')"
   ]
  },
  {
   "cell_type": "code",
   "execution_count": 7,
   "id": "7d91291f-8c50-4a00-851c-f7b7155b35cc",
   "metadata": {
    "execution": {
     "iopub.execute_input": "2023-05-21T10:38:59.719729Z",
     "iopub.status.busy": "2023-05-21T10:38:59.719004Z",
     "iopub.status.idle": "2023-05-21T10:38:59.736181Z",
     "shell.execute_reply": "2023-05-21T10:38:59.735036Z",
     "shell.execute_reply.started": "2023-05-21T10:38:59.719678Z"
    },
    "tags": []
   },
   "outputs": [
    {
     "data": {
      "text/html": [
       "<div>\n",
       "<style scoped>\n",
       "    .dataframe tbody tr th:only-of-type {\n",
       "        vertical-align: middle;\n",
       "    }\n",
       "\n",
       "    .dataframe tbody tr th {\n",
       "        vertical-align: top;\n",
       "    }\n",
       "\n",
       "    .dataframe thead th {\n",
       "        text-align: right;\n",
       "    }\n",
       "</style>\n",
       "<table border=\"1\" class=\"dataframe\">\n",
       "  <thead>\n",
       "    <tr style=\"text-align: right;\">\n",
       "      <th></th>\n",
       "      <th>Site</th>\n",
       "      <th>Age</th>\n",
       "    </tr>\n",
       "  </thead>\n",
       "  <tbody>\n",
       "    <tr>\n",
       "      <th>0</th>\n",
       "      <td>Google</td>\n",
       "      <td>10</td>\n",
       "    </tr>\n",
       "    <tr>\n",
       "      <th>1</th>\n",
       "      <td>Runoob</td>\n",
       "      <td>12</td>\n",
       "    </tr>\n",
       "    <tr>\n",
       "      <th>2</th>\n",
       "      <td>Wiki</td>\n",
       "      <td>13</td>\n",
       "    </tr>\n",
       "  </tbody>\n",
       "</table>\n",
       "</div>"
      ],
      "text/plain": [
       "     Site  Age\n",
       "0  Google   10\n",
       "1  Runoob   12\n",
       "2    Wiki   13"
      ]
     },
     "execution_count": 7,
     "metadata": {},
     "output_type": "execute_result"
    }
   ],
   "source": [
    "import pandas as pd\n",
    "data = {'Site':['x', x', 'Wiki'], 'Age':[10, 12, 13]}\n",
    "df = pd.DataFrame(data)\n",
    "df\n"
   ]
  },
  {
   "cell_type": "code",
   "execution_count": null,
   "id": "57db94fb-d9c9-499c-9bca-95af74ea5878",
   "metadata": {},
   "outputs": [],
   "source": []
  }
 ],
 "metadata": {
  "kernelspec": {
   "display_name": "python3 (python3.10)",
   "language": "python",
   "name": "conda-env-python3.10-py"
  },
  "language_info": {
   "codemirror_mode": {
    "name": "ipython",
    "version": 3
   },
   "file_extension": ".py",
   "mimetype": "text/x-python",
   "name": "python",
   "nbconvert_exporter": "python",
   "pygments_lexer": "ipython3",
   "version": "3.10.10"
  },
  "widgets": {
   "application/vnd.jupyter.widget-state+json": {
    "state": {},
    "version_major": 2,
    "version_minor": 0
   }
  }
 },
 "nbformat": 4,
 "nbformat_minor": 5
}
