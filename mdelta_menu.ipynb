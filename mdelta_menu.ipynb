{
 "cells": [
  {
   "cell_type": "code",
   "execution_count": 2,
   "id": "cfdcab25",
   "metadata": {
    "execution": {
     "iopub.execute_input": "2024-03-06T09:51:41.596548Z",
     "iopub.status.busy": "2024-03-06T09:51:41.595642Z",
     "iopub.status.idle": "2024-03-06T09:51:42.102387Z",
     "shell.execute_reply": "2024-03-06T09:51:42.102021Z",
     "shell.execute_reply.started": "2024-03-06T09:51:41.596504Z"
    }
   },
   "outputs": [
    {
     "name": "stdout",
     "output_type": "stream",
     "text": [
      "import packages: Begin\n",
      "import packages: END\n"
     ]
    },
    {
     "data": {
      "application/vnd.jupyter.widget-view+json": {
       "model_id": "3b06a29427e94e01a4a958bb40355deb",
       "version_major": 2,
       "version_minor": 0
      },
      "text/plain": [
       "Image(value=b'\\x89PNG\\r\\n\\x1a\\n\\x00\\x00\\x00\\rIHDR\\x00\\x00\\x06\\n\\x00\\x00\\x01\"\\x08\\x06\\x00\\x00\\x00(\\x0f\\x89\\x11\\…"
      ]
     },
     "metadata": {},
     "output_type": "display_data"
    },
    {
     "data": {
      "application/vnd.jupyter.widget-view+json": {
       "model_id": "7d52504be8ad4f05a0afd78d77b2451a",
       "version_major": 2,
       "version_minor": 0
      },
      "text/plain": [
       "Tab(children=(VBox(children=(Accordion(children=(VBox(children=(Combobox(value='', description='TreeSeqFile', …"
      ]
     },
     "metadata": {},
     "output_type": "display_data"
    }
   ],
   "source": [
    "%run ./packages_required/package_manager.py\n",
    "!Rscript  ./packages_required/package_manager_r.R\n",
    "%run ./mdelta/mydefault.py\n",
    "#from mdelta.mydefault import *\n",
    "myargs = get_default()"
   ]
  },
  {
   "cell_type": "code",
   "execution_count": 88,
   "id": "d6545f78-55bf-46f8-9101-5930a5a3cc0d",
   "metadata": {
    "execution": {
     "iopub.execute_input": "2024-03-07T18:27:59.676432Z",
     "iopub.status.busy": "2024-03-07T18:27:59.675726Z",
     "iopub.status.idle": "2024-03-07T18:28:08.421160Z",
     "shell.execute_reply": "2024-03-07T18:28:08.420576Z",
     "shell.execute_reply.started": "2024-03-07T18:27:59.676371Z"
    },
    "tags": []
   },
   "outputs": [
    {
     "name": "stdout",
     "output_type": "stream",
     "text": [
      "Building Score_Dictionary. Loading...\n"
     ]
    },
    {
     "data": {
      "application/vnd.jupyter.widget-view+json": {
       "model_id": "fd399d9a58a647828038da470664dc85",
       "version_major": 2,
       "version_minor": 0
      },
      "text/plain": [
       "Matrix Node:   0%|          | 0/400 [00:00<?, ?it/s]"
      ]
     },
     "metadata": {},
     "output_type": "display_data"
    },
    {
     "name": "stdout",
     "output_type": "stream",
     "text": [
      "The total running time of the mDELTA algorithm:  0.030680179595947266s\n",
      "network ok!!!\n"
     ]
    },
    {
     "name": "stderr",
     "output_type": "stream",
     "text": [
      "Python(96804) MallocStackLogging: can't turn off malloc stack logging because it was not enabled.\n"
     ]
    },
    {
     "name": "stdout",
     "output_type": "stream",
     "text": [
      "  |>>>>>>>>>>>>>>>>>>>>>>>>>>>>>>>>>>>>>>>>>>>>>>>>>>>>>>>>>>>>>>>>>>>>>>| 100%\u001b[?25h\u001b[?25h[?25h\u001b[?25h\u001b[?25h\n",
      "\u001b[?25h[1] 20\n",
      "\n",
      "以上序号总共  1  个存在单节点情况，已跳过单节点结果……\u001b[?25h\n",
      "matchtree ok!!!\n",
      "\u001b[?25h\u001b[?25h"
     ]
    },
    {
     "name": "stderr",
     "output_type": "stream",
     "text": [
      "Python(96826) MallocStackLogging: can't turn off malloc stack logging because it was not enabled.\n"
     ]
    },
    {
     "name": "stdout",
     "output_type": "stream",
     "text": [
      "\u001b[?25h\u001b[?25h\u001b[?25h\u001b[?25h\u001b[?25h\u001b[?25h\u001b[?25h\u001b[?25h\u001b[?25h\u001b[?25h\u001b[?25h\u001b[?25h\u001b[?25h\u001b[?25h\u001b[?25h\u001b[?25h\u001b[?25h\u001b[?25h\u001b[?25h\u001b[?25h\u001b[?25h\u001b[?25h\u001b[?25h\u001b[?25h\u001b[?25h\u001b[?25h\u001b[?25h\u001b[?25h\u001b[?25h\u001b[?25h\u001b[?25h\u001b[?25h\u001b[?25h\u001b[?25h\u001b[?25h\u001b[?25h\u001b[?25h\u001b[?25h\u001b[?25h\u001b[?25h\u001b[?25h\u001b[?25h\u001b[?25h\u001b[?25h\u001b[?25h\u001b[?25h\u001b[?25h\u001b[?25h\u001b[?25h\u001b[?25hdensitreeBEST ok!!!\n",
      "\u001b[?25h\u001b[?25h"
     ]
    },
    {
     "name": "stderr",
     "output_type": "stream",
     "text": [
      "Python(96840) MallocStackLogging: can't turn off malloc stack logging because it was not enabled.\n"
     ]
    },
    {
     "name": "stdout",
     "output_type": "stream",
     "text": [
      "  |>>>>>>>>>>>>>>>>>>>>>>>>>>>>>>>>>>>>>>>>>>>>>>>>>>>>>>>>>>>>>>>>>>>>>>| 100%\u001b[?25h[?25h\u001b[?25h\u001b[?25h\n",
      "  |>>>>>>>>>>>>>>>>>>>>>>>>>>>>>>>>>>>>>>>>>>>>>>>>>>>>>>>>>>>>>>>>>>>>>>| 100%\u001b[?25h\n",
      "\u001b[?25h\u001b[?25h\u001b[?25hdensitreeALL ok!!!\u001b[?25h\u001b[?25htotally time is  0:00:08.710779\n"
     ]
    }
   ],
   "source": [
    "import datetime\n",
    "start = datetime.datetime.now()\n",
    "TREE,TREE2,N2T,N2T2,XScoreFile,LScoreFile,top,mavv,mavvstep,mivv,mivvstep,ps,psstep,tqdm,n,mg,mgstep,xs,xsstep,o,PERM,cpu,mdelta,match_tree,network,densitree,da = get_listvalue(myargs.values())\n",
    "output = get_output(o)\n",
    "notebook, Tqdm = TF_to_10(n, tqdm)\n",
    "for ma in forlist(mavv[0], mavv[1], mavvstep):\n",
    "    for mi in forlist(mivv[0], mivv[1], mivvstep):\n",
    "        for p in forlist(ps[0], ps[1], psstep):\n",
    "            for mgg in forlist(mg[0], mg[1], mgstep):\n",
    "                for diffs in forlist(xs[0], xs[1], xsstep):\n",
    "                    %run $mdelta $TREE $TREE2 -nt $N2T -nt2 $N2T2 -xsd $XScoreFile -lsd $LScoreFile -t $top -ma $ma -mi $mi -p $p -T $Tqdm -n $notebook -mg $mgg -x $diffs -o $output -P $PERM -c $cpu\n",
    "                    if not PERM > 0:\n",
    "                        mdelta_json = output + '{}_{}_top{}_diff{}_pv{}_miv{}_mav{}_mg{}.json'.format(os.path.basename(TREE).split('.')[0], os.path.basename(TREE2).split('.')[0], top, str(diffs),  str(p), str(mi), str(ma), str(mgg))\n",
    "                        %run $network $mdelta_json $output\n",
    "                        !Rscript $match_tree $mdelta_json $XScoreFile $output $ma\n",
    "                        !Rscript $densitree $mdelta_json $output\n",
    "                        !Rscript $da $mdelta_json $output\n",
    "end = datetime.datetime.now()\n",
    "print('totally time is ', end - start)"
   ]
  },
  {
   "cell_type": "code",
   "execution_count": 11,
   "id": "21a0c1db-4749-4a6d-97cb-404083d4e0e0",
   "metadata": {},
   "outputs": [],
   "source": [
    "# %run $mdelta -h"
   ]
  },
  {
   "cell_type": "code",
   "execution_count": null,
   "id": "137cd09d-4357-4b9e-ac86-22ec8447a1cc",
   "metadata": {},
   "outputs": [],
   "source": []
  }
 ],
 "metadata": {
  "kernelspec": {
   "display_name": "Python 3 (ipykernel)",
   "language": "python",
   "name": "python3"
  },
  "language_info": {
   "codemirror_mode": {
    "name": "ipython",
    "version": 3
   },
   "file_extension": ".py",
   "mimetype": "text/x-python",
   "name": "python",
   "nbconvert_exporter": "python",
   "pygments_lexer": "ipython3",
   "version": "3.9.6"
  },
  "widgets": {
   "application/vnd.jupyter.widget-state+json": {
    "state": {},
    "version_major": 2,
    "version_minor": 0
   }
  }
 },
 "nbformat": 4,
 "nbformat_minor": 5
}
