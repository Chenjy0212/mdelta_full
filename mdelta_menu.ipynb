{
 "cells": [
  {
   "cell_type": "code",
   "execution_count": 1,
   "id": "cfdcab25",
   "metadata": {
    "execution": {
     "iopub.execute_input": "2024-03-07T22:25:27.576231Z",
     "iopub.status.busy": "2024-03-07T22:25:27.575473Z",
     "iopub.status.idle": "2024-03-07T22:25:28.135576Z",
     "shell.execute_reply": "2024-03-07T22:25:28.135215Z",
     "shell.execute_reply.started": "2024-03-07T22:25:27.576164Z"
    }
   },
   "outputs": [
    {
     "name": "stdout",
     "output_type": "stream",
     "text": [
      "import packages: Begin\n",
      "import packages: END\n"
     ]
    },
    {
     "data": {
      "application/vnd.jupyter.widget-view+json": {
       "model_id": "d2b36c976abb479aa72294bd9c967e40",
       "version_major": 2,
       "version_minor": 0
      },
      "text/plain": [
       "Image(value=b'\\x89PNG\\r\\n\\x1a\\n\\x00\\x00\\x00\\rIHDR\\x00\\x00\\x06\\n\\x00\\x00\\x01\"\\x08\\x06\\x00\\x00\\x00(\\x0f\\x89\\x11\\…"
      ]
     },
     "metadata": {},
     "output_type": "display_data"
    },
    {
     "data": {
      "application/vnd.jupyter.widget-view+json": {
       "model_id": "b9ca05e254c6400cb77fd1c8ff675e78",
       "version_major": 2,
       "version_minor": 0
      },
      "text/plain": [
       "Tab(children=(VBox(children=(Accordion(children=(VBox(children=(Combobox(value='', description='TreeSeqFile', …"
      ]
     },
     "metadata": {},
     "output_type": "display_data"
    }
   ],
   "source": [
    "%run ./packages_required/package_manager.py\n",
    "!Rscript  ./packages_required/package_manager_r.R\n",
    "%run ./mdelta/mydefault.py\n",
    "#from mdelta.mydefault import *\n",
    "from itertools import product\n",
    "myargs = get_default()"
   ]
  },
  {
   "cell_type": "code",
   "execution_count": 2,
   "id": "d6545f78-55bf-46f8-9101-5930a5a3cc0d",
   "metadata": {
    "execution": {
     "iopub.execute_input": "2024-03-08T09:13:43.666503Z",
     "iopub.status.busy": "2024-03-08T09:13:43.665878Z",
     "iopub.status.idle": "2024-03-08T09:13:46.562759Z",
     "shell.execute_reply": "2024-03-08T09:13:46.562187Z",
     "shell.execute_reply.started": "2024-03-08T09:13:43.666471Z"
    },
    "tags": []
   },
   "outputs": [
    {
     "name": "stdout",
     "output_type": "stream",
     "text": [
      "The total running time of the mDELTA algorithm:  0.011036872863769531s\n",
      "  |                                                                      |   0%\u001b[?25h\u001b[?25h[?25h\u001b[?25h\u001b[?25h\u001b[?25h [1] \"2.0\" \"2.0\" \"2.0\" \"2.0\" \"2.0\" \"2.0\" \"2.0\" \"2.0\" \"2.0\" \"2.0\" \"2.0\" \"2.0\"\n",
      "[13] \"2.0\"\n",
      "  |>>>>>>>>>>>>>>>>>>>>>>>>>>>>>>>>>>>>>>>>>>>>>>>>>>>>>>>>>>>>>>>>>>>>>>| 100%\u001b[?25h\n",
      "\u001b[?25h\u001b[?25h\n",
      "matchtree ok!!!\n",
      "\u001b[?25h\u001b[?25hnetwork ok!!!\n",
      "\u001b[?25h\u001b[?25h\u001b[?25h\u001b[?25h\u001b[?25h\u001b[?25h\u001b[?25h\u001b[?25h\u001b[?25h\u001b[?25h\u001b[?25h\u001b[?25h\u001b[?25h\u001b[?25h\u001b[?25h\u001b[?25h\u001b[?25h\u001b[?25h\u001b[?25h\u001b[?25h\u001b[?25h\u001b[?25h\u001b[?25h\u001b[?25h\u001b[?25h\u001b[?25h\u001b[?25h\u001b[?25h\u001b[?25h\u001b[?25h\u001b[?25h\u001b[?25h\u001b[?25h\u001b[?25h\u001b[?25h\u001b[?25h\u001b[?25h\u001b[?25h\u001b[?25h\u001b[?25h\u001b[?25h\u001b[?25h\u001b[?25h\u001b[?25h\u001b[?25h\u001b[?25h\u001b[?25h\u001b[?25h\u001b[?25h\u001b[?25h\u001b[?25h\u001b[?25h\u001b[?25h\u001b[?25hdensitreeBEST ok!!!\n",
      "\u001b[?25h\u001b[?25h\u001b[?25h\u001b[?25h\u001b[?25h\u001b[?25h\u001b[?25h\u001b[?25h\u001b[?25h\u001b[?25h\u001b[?25h\u001b[?25h\u001b[?25h\u001b[?25h只有单一匹配，结果请查看DensitreeBEST~\u001b[?25hmDELTA OK!!!\n"
     ]
    }
   ],
   "source": [
    "TREE,TREE2,N2T,N2T2,XScoreFile,LScoreFile,top,mavv,mavvstep,mivv,mivvstep,ps,psstep,tqdm,n,mg,mgstep,xs,xsstep,o,PERM,cpu,mdelta,match_tree,network,densitree,da,dcc,pper = get_listvalue(myargs.values())\n",
    "output = get_output(o)\n",
    "notebook, Tqdm = TF_to_10(n, tqdm)\n",
    "for ma, mi, p, mgg, diffs in product(forlist(mavv[0], mavv[1], mavvstep),\n",
    "                                     forlist(mivv[0], mivv[1], mivvstep),\n",
    "                                     forlist(ps[0], ps[1], psstep),\n",
    "                                     forlist(mg[0], mg[1], mgstep),\n",
    "                                     forlist(xs[0], xs[1], xsstep)):\n",
    "    %run $mdelta $TREE $TREE2 -nt $N2T -nt2 $N2T2 -xsd $XScoreFile -lsd $LScoreFile -t $top -ma $ma -mi $mi -p $p -T $Tqdm -n $notebook -mg $mgg -x $diffs -o $output -P $PERM -c $cpu -pper $pper\n",
    "    if not PERM > 0:\n",
    "        mdelta_json = output + '{}_{}_top{}_diff{}_pv{}_miv{}_mav{}_mg{}.json'.format(os.path.basename(TREE).split('.')[0], os.path.basename(TREE2).split('.')[0], top, str(diffs),  str(p), str(mi), str(ma), str(mgg))\n",
    "        !Rscript $match_tree $mdelta_json $XScoreFile $output $LScoreFile $mi $ma\n",
    "        %run $network $mdelta_json $output\n",
    "        !Rscript $densitree $mdelta_json $output $dcc\n",
    "        !Rscript $da $mdelta_json $output $dcc\n",
    "print('mDELTA OK!!!')"
   ]
  },
  {
   "cell_type": "code",
   "execution_count": 6,
   "id": "21a0c1db-4749-4a6d-97cb-404083d4e0e0",
   "metadata": {},
   "outputs": [
    {
     "name": "stdout",
     "output_type": "stream",
     "text": [
      "usage: mDELTA [-h] [-nt [NAME2TYPEFILE]] [-nt2 [NAME2TYPEFILE2]]\n",
      "              [-xsd [XSCOREDICTFILE]] [-lsd [LSCOREDICTFILE]] [-t TOP]\n",
      "              [-ma MAV] [-mi MIV] [-p PV] [-pper PRUNEPERCENT] [-T TQDM]\n",
      "              [-n NOTEBOOK] [-P PERM] [-a ALG] [-c CPUS] [-o [OUTPUT]]\n",
      "              [-mg MERGE] [-x DIFF]\n",
      "              TreeSeqFile TreeSeqFile2\n",
      "\n",
      "Multifuricating Developmental cEll Lineage Tree Alignment(mDELTA)\n",
      "\n",
      "positional arguments:\n",
      "  TreeSeqFile           [path/filename] A text file storing cell lineage tree\n",
      "                        #1 in newick format. Tips can be labeled by name or\n",
      "                        cell type. Branch lengths should be removed.\n",
      "  TreeSeqFile2          [path/filename] A text file storing cell lineage tree\n",
      "                        #2 in newick format. Tips can be labeled by name or\n",
      "                        cell type. Branch lengths should be removed.\n",
      "\n",
      "optional arguments:\n",
      "  -h, --help            show this help message and exit\n",
      "  -nt [NAME2TYPEFILE], --Name2TypeFile [NAME2TYPEFILE]\n",
      "                        [path/filename] List of correspondance between tip\n",
      "                        name and cell type for cell lineage tree #1.\n",
      "  -nt2 [NAME2TYPEFILE2], --Name2TypeFile2 [NAME2TYPEFILE2]\n",
      "                        [path/filename] List of correspondance between tip\n",
      "                        name and cell type for cell lineage tree #2.\n",
      "  -xsd [XSCOREDICTFILE], --XScoreDictFile [XSCOREDICTFILE]\n",
      "                        [path/filename] A comma-delimited text file used to\n",
      "                        determine similarity scores between cells. If there\n",
      "                        are exactly three columns, they will be interpreted as\n",
      "                        (1) the cell (name or type) in Tree #1, (2) the cell\n",
      "                        in Tree #2, and (3) the similarity score. If\n",
      "                        otherwise, the first column will be interpreted as the\n",
      "                        cell (name or type) and the remaining columns as\n",
      "                        features of the cell (e.g. expression of a gene). The\n",
      "                        similarity scores will be estimated between all pairs\n",
      "                        of cells based on the Euclidean distance calculated\n",
      "                        using all the features. Overrides `-ma` and `-mi`.\n",
      "  -lsd [LSCOREDICTFILE], --LScoreDictFile [LSCOREDICTFILE]\n",
      "                        [path/filename] A score matrix where row names\n",
      "                        represent the names of all leaf nodes in the first\n",
      "                        tree, column names represent the names of all leaf\n",
      "                        nodes in the second tree, and the corresponding score\n",
      "                        values in the column and column spaces represent their\n",
      "                        matching scores.\n",
      "  -t TOP, --top TOP     [int > 0] Performs local (instead of global)\n",
      "                        alignment, and output the top NUM local alignments\n",
      "                        with the highest score (e.g. `-t 10`). In the case of\n",
      "                        global alignment, this parameter should be omitted.\n",
      "  -ma MAV, --mav MAV    [float] Default=2.\n",
      "  -mi MIV, --miv MIV    [float] Default=-1. Shorthand for a simple matching\n",
      "                        score scheme, where the matching score between a pair\n",
      "                        of the same cell types is MAV and all other pairs are\n",
      "                        MIV. (e.g. `-ma 2 -mi -2`). Overridden by `-sd`.\n",
      "  -p PV, --pv PV        [float] The score for pruning a tip of the tree (e.g.\n",
      "                        `-p -2`). Default to -1.\n",
      "  -pper PRUNEPERCENT, --prunepercent PRUNEPERCENT\n",
      "                        [float] The comparison result requires either party's\n",
      "                        pruning rate to be less than or equal to PPER. The\n",
      "                        pruning rate is the proportion of pruned leaf nodes to\n",
      "                        all leaf nodes in the subtree. Default to 20.\n",
      "  -T TQDM, --Tqdm TQDM  [0(off) or 1(on)] Toggle for the jupyter notebook\n",
      "                        environment.\n",
      "  -n NOTEBOOK, --notebook NOTEBOOK\n",
      "                        [0(off) or 1(on)] Toggle for the jupyter notebook\n",
      "                        environment.\n",
      "  -P PERM, --PERM PERM  [int > 0] Toggle for the statistical significance. For\n",
      "                        each observed alignment, the aligned trees will be\n",
      "                        permuted PERM times to generate a null distribution of\n",
      "                        alignment scores, with which a P value can be\n",
      "                        calculated for the observed alignment score.\n",
      "  -a ALG, --Alg ALG     [KM / GA] Use Kuhn-Munkres or Greedy Algorithm to find\n",
      "                        the optimal alignment score.\n",
      "  -c CPUS, --CPUs CPUS  [int > 0] Number of threads for multi-processing.\n",
      "                        Default to 50., it can reach the maximum number of\n",
      "                        local CPU cores - 1.\n",
      "  -o [OUTPUT], --output [OUTPUT]\n",
      "                        [path] Output path, eg:'/home/username'\n",
      "  -mg MERGE, --merge MERGE\n",
      "                        [float] This is the scaling factor for calculating the\n",
      "                        score of merging an internal node (e.g. -mg -1), which\n",
      "                        is multiplied by the number of tips of the internal\n",
      "                        node to be merged. Default to 100.\n",
      "  -x DIFF, --diff DIFF  [int > 0] Alignment must consist of a minimal of DIFF\n",
      "                        percent aligned cell pairs that are different from\n",
      "                        previous(better) local alignments in order to be\n",
      "                        considered as another new alignment (e.g. `-x 20`\n",
      "                        means 20 percent).\n",
      "\n",
      "More details on https://github.com/Chenjy0212/modelta\n"
     ]
    }
   ],
   "source": [
    "%run $mdelta -h"
   ]
  },
  {
   "cell_type": "code",
   "execution_count": null,
   "id": "137cd09d-4357-4b9e-ac86-22ec8447a1cc",
   "metadata": {},
   "outputs": [],
   "source": []
  }
 ],
 "metadata": {
  "kernelspec": {
   "display_name": "Python 3 (ipykernel)",
   "language": "python",
   "name": "python3"
  },
  "language_info": {
   "codemirror_mode": {
    "name": "ipython",
    "version": 3
   },
   "file_extension": ".py",
   "mimetype": "text/x-python",
   "name": "python",
   "nbconvert_exporter": "python",
   "pygments_lexer": "ipython3",
   "version": "3.9.6"
  },
  "widgets": {
   "application/vnd.jupyter.widget-state+json": {
    "state": {},
    "version_major": 2,
    "version_minor": 0
   }
  }
 },
 "nbformat": 4,
 "nbformat_minor": 5
}
