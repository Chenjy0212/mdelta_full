{
 "cells": [
  {
   "cell_type": "code",
   "execution_count": 1,
   "id": "cfdcab25",
   "metadata": {
    "execution": {
     "iopub.execute_input": "2024-03-07T22:25:27.576231Z",
     "iopub.status.busy": "2024-03-07T22:25:27.575473Z",
     "iopub.status.idle": "2024-03-07T22:25:28.135576Z",
     "shell.execute_reply": "2024-03-07T22:25:28.135215Z",
     "shell.execute_reply.started": "2024-03-07T22:25:27.576164Z"
    }
   },
   "outputs": [
    {
     "name": "stdout",
     "output_type": "stream",
     "text": [
      "import packages: Begin\n",
      "import packages: END\n"
     ]
    },
    {
     "data": {
      "application/vnd.jupyter.widget-view+json": {
       "model_id": "c837288706444860a4291ddd3fc36b40",
       "version_major": 2,
       "version_minor": 0
      },
      "text/plain": [
       "Image(value=b'\\x89PNG\\r\\n\\x1a\\n\\x00\\x00\\x00\\rIHDR\\x00\\x00\\x06\\n\\x00\\x00\\x01\"\\x08\\x06\\x00\\x00\\x00(\\x0f\\x89\\x11\\…"
      ]
     },
     "metadata": {},
     "output_type": "display_data"
    },
    {
     "data": {
      "application/vnd.jupyter.widget-view+json": {
       "model_id": "09a12d930e544e459274691bbc8a1043",
       "version_major": 2,
       "version_minor": 0
      },
      "text/plain": [
       "Tab(children=(VBox(children=(Accordion(children=(VBox(children=(Combobox(value='', description='TreeSeqFile', …"
      ]
     },
     "metadata": {},
     "output_type": "display_data"
    }
   ],
   "source": [
    "%run ./packages_required/package_manager.py\n",
    "!Rscript  ./packages_required/package_manager_r.R\n",
    "%run ./mdelta/mydefault.py\n",
    "#from mdelta.mydefault import *\n",
    "myargs = get_default()"
   ]
  },
  {
   "cell_type": "code",
   "execution_count": 3,
   "id": "d6545f78-55bf-46f8-9101-5930a5a3cc0d",
   "metadata": {
    "execution": {
     "iopub.execute_input": "2024-03-08T09:13:43.666503Z",
     "iopub.status.busy": "2024-03-08T09:13:43.665878Z",
     "iopub.status.idle": "2024-03-08T09:13:46.562759Z",
     "shell.execute_reply": "2024-03-08T09:13:46.562187Z",
     "shell.execute_reply.started": "2024-03-08T09:13:43.666471Z"
    },
    "tags": []
   },
   "outputs": [
    {
     "ename": "FileNotFoundError",
     "evalue": "[Errno 2] No such file or directory: 'non'",
     "output_type": "error",
     "traceback": [
      "\u001b[0;31m---------------------------------------------------------------------------\u001b[0m",
      "\u001b[0;31mFileNotFoundError\u001b[0m                         Traceback (most recent call last)",
      "File \u001b[0;32m~/Desktop/vscode/mdelta_full/mdelta/mDELTA.py:1048\u001b[0m\n\u001b[1;32m   1043\u001b[0m     \u001b[38;5;66;03m#print(ttrace)\u001b[39;00m\n\u001b[1;32m   1044\u001b[0m     \u001b[38;5;66;03m#print(llldict, lllldict)\u001b[39;00m\n\u001b[1;32m   1047\u001b[0m \u001b[38;5;28;01mif\u001b[39;00m \u001b[38;5;18m__name__\u001b[39m \u001b[38;5;241m==\u001b[39m \u001b[38;5;124m'\u001b[39m\u001b[38;5;124m__main__\u001b[39m\u001b[38;5;124m'\u001b[39m:\n\u001b[0;32m-> 1048\u001b[0m     example \u001b[38;5;241m=\u001b[39m \u001b[43mscoremat\u001b[49m\u001b[43m(\u001b[49m\u001b[43mTreeSeqFile\u001b[49m\u001b[43m \u001b[49m\u001b[38;5;241;43m=\u001b[39;49m\u001b[43m \u001b[49m\u001b[43mTreeSeqFile\u001b[49m\u001b[43m,\u001b[49m\n\u001b[1;32m   1049\u001b[0m \u001b[43m                         \u001b[49m\u001b[43mTreeSeqFile2\u001b[49m\u001b[43m \u001b[49m\u001b[38;5;241;43m=\u001b[39;49m\u001b[43m \u001b[49m\u001b[43mTreeSeqFile2\u001b[49m\u001b[43m,\u001b[49m\n\u001b[1;32m   1050\u001b[0m \u001b[43m                         \u001b[49m\u001b[43mName2TypeFile\u001b[49m\u001b[43m \u001b[49m\u001b[38;5;241;43m=\u001b[39;49m\u001b[43m \u001b[49m\u001b[43mName2TypeFile\u001b[49m\u001b[43m,\u001b[49m\n\u001b[1;32m   1051\u001b[0m \u001b[43m                         \u001b[49m\u001b[43mName2TypeFile2\u001b[49m\u001b[43m \u001b[49m\u001b[38;5;241;43m=\u001b[39;49m\u001b[43m \u001b[49m\u001b[43mName2TypeFile2\u001b[49m\u001b[43m,\u001b[49m\n\u001b[1;32m   1052\u001b[0m \u001b[43m                         \u001b[49m\u001b[43mScoreDictFile\u001b[49m\u001b[43m \u001b[49m\u001b[38;5;241;43m=\u001b[39;49m\u001b[43m \u001b[49m\u001b[43mScoreDictFile\u001b[49m\u001b[43m,\u001b[49m\n\u001b[1;32m   1053\u001b[0m \u001b[43m                         \u001b[49m\u001b[38;5;66;43;03m# ScoreDictFile1 = ScoreDictFile1,\u001b[39;49;00m\n\u001b[1;32m   1054\u001b[0m \u001b[43m                         \u001b[49m\u001b[38;5;66;43;03m# ScoreDictFile2 = ScoreDictFile2,\u001b[39;49;00m\n\u001b[1;32m   1055\u001b[0m \u001b[43m                         \u001b[49m\u001b[43mLScoreDictFile\u001b[49m\u001b[43m \u001b[49m\u001b[38;5;241;43m=\u001b[39;49m\u001b[43m \u001b[49m\u001b[43mLScoreDictFile\u001b[49m\u001b[43m,\u001b[49m\n\u001b[1;32m   1056\u001b[0m \u001b[43m                         \u001b[49m\u001b[43mmav\u001b[49m\u001b[43m \u001b[49m\u001b[38;5;241;43m=\u001b[39;49m\u001b[43m \u001b[49m\u001b[43mmav\u001b[49m\u001b[43m,\u001b[49m\n\u001b[1;32m   1057\u001b[0m \u001b[43m                         \u001b[49m\u001b[43mmiv\u001b[49m\u001b[43m \u001b[49m\u001b[38;5;241;43m=\u001b[39;49m\u001b[43m \u001b[49m\u001b[43mmiv\u001b[49m\u001b[43m,\u001b[49m\n\u001b[1;32m   1058\u001b[0m \u001b[43m                         \u001b[49m\u001b[43mtop\u001b[49m\u001b[43m \u001b[49m\u001b[38;5;241;43m=\u001b[39;49m\u001b[43m \u001b[49m\u001b[43mtop\u001b[49m\u001b[43m,\u001b[49m\n\u001b[1;32m   1059\u001b[0m \u001b[43m                         \u001b[49m\u001b[43mnotebook\u001b[49m\u001b[43m \u001b[49m\u001b[38;5;241;43m=\u001b[39;49m\u001b[43m \u001b[49m\u001b[43mnotebook\u001b[49m\u001b[43m,\u001b[49m\n\u001b[1;32m   1060\u001b[0m \u001b[43m                         \u001b[49m\u001b[38;5;66;43;03m# pp = pp,\u001b[39;49;00m\n\u001b[1;32m   1061\u001b[0m \u001b[43m                         \u001b[49m\u001b[43mpv\u001b[49m\u001b[43m \u001b[49m\u001b[38;5;241;43m=\u001b[39;49m\u001b[43m \u001b[49m\u001b[43mpv\u001b[49m\u001b[43m,\u001b[49m\n\u001b[1;32m   1062\u001b[0m \u001b[43m                         \u001b[49m\u001b[43mTqdm\u001b[49m\u001b[43m \u001b[49m\u001b[38;5;241;43m=\u001b[39;49m\u001b[43m \u001b[49m\u001b[43mTqdm\u001b[49m\u001b[43m,\u001b[49m\n\u001b[1;32m   1063\u001b[0m \u001b[43m                         \u001b[49m\u001b[43mdiff\u001b[49m\u001b[43m \u001b[49m\u001b[38;5;241;43m=\u001b[39;49m\u001b[43m \u001b[49m\u001b[43mdiff\u001b[49m\u001b[43m,\u001b[49m\n\u001b[1;32m   1064\u001b[0m \u001b[43m                         \u001b[49m\u001b[43mmerge\u001b[49m\u001b[43m \u001b[49m\u001b[38;5;241;43m=\u001b[39;49m\u001b[43m \u001b[49m\u001b[43mmerge\u001b[49m\u001b[43m)\u001b[49m \n\u001b[1;32m   1065\u001b[0m     \u001b[38;5;66;03m#创建文件夹\u001b[39;00m\n\u001b[1;32m   1066\u001b[0m     mymkdir(output)\n",
      "File \u001b[0;32m~/Desktop/vscode/mdelta_full/mdelta/mDELTA.py:422\u001b[0m, in \u001b[0;36mscoremat\u001b[0;34m(TreeSeqFile, TreeSeqFile2, Name2TypeFile, Name2TypeFile2, ScoreDictFile, LScoreDictFile, top, pv, mav, miv, Alg, Tqdm, notebook, diff, merge)\u001b[0m\n\u001b[1;32m    420\u001b[0m     TreeSeqOri \u001b[38;5;241m=\u001b[39m ReadTreeSeq(TreeSeqFile)\n\u001b[1;32m    421\u001b[0m \u001b[38;5;28;01melse\u001b[39;00m:\n\u001b[0;32m--> 422\u001b[0m     TreeSeqType \u001b[38;5;241m=\u001b[39m \u001b[43mReadTreeSeq\u001b[49m\u001b[43m(\u001b[49m\u001b[43mTreeSeqFile\u001b[49m\u001b[43m)\u001b[49m\n\u001b[1;32m    423\u001b[0m     TreeSeqOri \u001b[38;5;241m=\u001b[39m ReadTreeSeq(TreeSeqFile)\n\u001b[1;32m    425\u001b[0m \u001b[38;5;28;01mif\u001b[39;00m Name2TypeFile2 \u001b[38;5;241m!=\u001b[39m \u001b[38;5;124m'\u001b[39m\u001b[38;5;124m'\u001b[39m \u001b[38;5;129;01mand\u001b[39;00m Name2TypeFile2 \u001b[38;5;241m!=\u001b[39m \u001b[38;5;28;01mNone\u001b[39;00m \u001b[38;5;129;01mand\u001b[39;00m Name2TypeFile2 \u001b[38;5;241m!=\u001b[39m \u001b[38;5;124m'\u001b[39m\u001b[38;5;124mnon\u001b[39m\u001b[38;5;124m'\u001b[39m:\n",
      "File \u001b[0;32m~/Desktop/vscode/mdelta_full/mdelta/ReadFile.py:38\u001b[0m, in \u001b[0;36mReadTreeSeq\u001b[0;34m(TreeSeqFilePath)\u001b[0m\n\u001b[1;32m     37\u001b[0m \u001b[38;5;28;01mdef\u001b[39;00m \u001b[38;5;21mReadTreeSeq\u001b[39m(TreeSeqFilePath):\n\u001b[0;32m---> 38\u001b[0m     tree \u001b[38;5;241m=\u001b[39m \u001b[43mPhylo\u001b[49m\u001b[38;5;241;43m.\u001b[39;49m\u001b[43mread\u001b[49m\u001b[43m(\u001b[49m\u001b[43mTreeSeqFilePath\u001b[49m\u001b[43m,\u001b[49m\u001b[43m \u001b[49m\u001b[38;5;124;43m\"\u001b[39;49m\u001b[38;5;124;43mnewick\u001b[39;49m\u001b[38;5;124;43m\"\u001b[39;49m\u001b[43m)\u001b[49m\n\u001b[1;32m     39\u001b[0m     newick_tree \u001b[38;5;241m=\u001b[39m simplify_tree(tree\u001b[38;5;241m.\u001b[39mclade)\n\u001b[1;32m     40\u001b[0m     \u001b[38;5;28;01mreturn\u001b[39;00m newick_tree\n",
      "File \u001b[0;32m~/Library/Python/3.9/lib/python/site-packages/Bio/Phylo/_io.py:60\u001b[0m, in \u001b[0;36mread\u001b[0;34m(file, format, **kwargs)\u001b[0m\n\u001b[1;32m     58\u001b[0m \u001b[38;5;28;01mtry\u001b[39;00m:\n\u001b[1;32m     59\u001b[0m     tree_gen \u001b[38;5;241m=\u001b[39m parse(file, \u001b[38;5;28mformat\u001b[39m, \u001b[38;5;241m*\u001b[39m\u001b[38;5;241m*\u001b[39mkwargs)\n\u001b[0;32m---> 60\u001b[0m     tree \u001b[38;5;241m=\u001b[39m \u001b[38;5;28;43mnext\u001b[39;49m\u001b[43m(\u001b[49m\u001b[43mtree_gen\u001b[49m\u001b[43m)\u001b[49m\n\u001b[1;32m     61\u001b[0m \u001b[38;5;28;01mexcept\u001b[39;00m \u001b[38;5;167;01mStopIteration\u001b[39;00m:\n\u001b[1;32m     62\u001b[0m     \u001b[38;5;28;01mraise\u001b[39;00m \u001b[38;5;167;01mValueError\u001b[39;00m(\u001b[38;5;124m\"\u001b[39m\u001b[38;5;124mThere are no trees in this file.\u001b[39m\u001b[38;5;124m\"\u001b[39m) \u001b[38;5;28;01mfrom\u001b[39;00m \u001b[38;5;28;01mNone\u001b[39;00m\n",
      "File \u001b[0;32m~/Library/Python/3.9/lib/python/site-packages/Bio/Phylo/_io.py:48\u001b[0m, in \u001b[0;36mparse\u001b[0;34m(file, format, **kwargs)\u001b[0m\n\u001b[1;32m     33\u001b[0m \u001b[38;5;28;01mdef\u001b[39;00m \u001b[38;5;21mparse\u001b[39m(file, \u001b[38;5;28mformat\u001b[39m, \u001b[38;5;241m*\u001b[39m\u001b[38;5;241m*\u001b[39mkwargs):\n\u001b[1;32m     34\u001b[0m \u001b[38;5;250m    \u001b[39m\u001b[38;5;124;03m\"\"\"Parse a file iteratively, and yield each of the trees it contains.\u001b[39;00m\n\u001b[1;32m     35\u001b[0m \n\u001b[1;32m     36\u001b[0m \u001b[38;5;124;03m    If a file only contains one tree, this still returns an iterable object that\u001b[39;00m\n\u001b[0;32m   (...)\u001b[0m\n\u001b[1;32m     46\u001b[0m \n\u001b[1;32m     47\u001b[0m \u001b[38;5;124;03m    \"\"\"\u001b[39;00m\n\u001b[0;32m---> 48\u001b[0m     \u001b[38;5;28;01mwith\u001b[39;00m File\u001b[38;5;241m.\u001b[39mas_handle(file) \u001b[38;5;28;01mas\u001b[39;00m fp:\n\u001b[1;32m     49\u001b[0m         \u001b[38;5;28;01myield from\u001b[39;00m \u001b[38;5;28mgetattr\u001b[39m(supported_formats[\u001b[38;5;28mformat\u001b[39m], \u001b[38;5;124m\"\u001b[39m\u001b[38;5;124mparse\u001b[39m\u001b[38;5;124m\"\u001b[39m)(fp, \u001b[38;5;241m*\u001b[39m\u001b[38;5;241m*\u001b[39mkwargs)\n",
      "File \u001b[0;32m/Applications/Xcode.app/Contents/Developer/Library/Frameworks/Python3.framework/Versions/3.9/lib/python3.9/contextlib.py:117\u001b[0m, in \u001b[0;36m_GeneratorContextManager.__enter__\u001b[0;34m(self)\u001b[0m\n\u001b[1;32m    115\u001b[0m \u001b[38;5;28;01mdel\u001b[39;00m \u001b[38;5;28mself\u001b[39m\u001b[38;5;241m.\u001b[39margs, \u001b[38;5;28mself\u001b[39m\u001b[38;5;241m.\u001b[39mkwds, \u001b[38;5;28mself\u001b[39m\u001b[38;5;241m.\u001b[39mfunc\n\u001b[1;32m    116\u001b[0m \u001b[38;5;28;01mtry\u001b[39;00m:\n\u001b[0;32m--> 117\u001b[0m     \u001b[38;5;28;01mreturn\u001b[39;00m \u001b[38;5;28;43mnext\u001b[39;49m\u001b[43m(\u001b[49m\u001b[38;5;28;43mself\u001b[39;49m\u001b[38;5;241;43m.\u001b[39;49m\u001b[43mgen\u001b[49m\u001b[43m)\u001b[49m\n\u001b[1;32m    118\u001b[0m \u001b[38;5;28;01mexcept\u001b[39;00m \u001b[38;5;167;01mStopIteration\u001b[39;00m:\n\u001b[1;32m    119\u001b[0m     \u001b[38;5;28;01mraise\u001b[39;00m \u001b[38;5;167;01mRuntimeError\u001b[39;00m(\u001b[38;5;124m\"\u001b[39m\u001b[38;5;124mgenerator didn\u001b[39m\u001b[38;5;124m'\u001b[39m\u001b[38;5;124mt yield\u001b[39m\u001b[38;5;124m\"\u001b[39m) \u001b[38;5;28;01mfrom\u001b[39;00m \u001b[38;5;28;01mNone\u001b[39;00m\n",
      "File \u001b[0;32m~/Library/Python/3.9/lib/python/site-packages/Bio/File.py:72\u001b[0m, in \u001b[0;36mas_handle\u001b[0;34m(handleish, mode, **kwargs)\u001b[0m\n\u001b[1;32m     30\u001b[0m \u001b[38;5;250m\u001b[39m\u001b[38;5;124mr\u001b[39m\u001b[38;5;124;03m\"\"\"Context manager to ensure we are using a handle.\u001b[39;00m\n\u001b[1;32m     31\u001b[0m \n\u001b[1;32m     32\u001b[0m \u001b[38;5;124;03mContext manager for arguments that can be passed to SeqIO and AlignIO read, write,\u001b[39;00m\n\u001b[0;32m   (...)\u001b[0m\n\u001b[1;32m     69\u001b[0m \n\u001b[1;32m     70\u001b[0m \u001b[38;5;124;03m\"\"\"\u001b[39;00m\n\u001b[1;32m     71\u001b[0m \u001b[38;5;28;01mtry\u001b[39;00m:\n\u001b[0;32m---> 72\u001b[0m     \u001b[38;5;28;01mwith\u001b[39;00m \u001b[38;5;28;43mopen\u001b[39;49m\u001b[43m(\u001b[49m\u001b[43mhandleish\u001b[49m\u001b[43m,\u001b[49m\u001b[43m \u001b[49m\u001b[43mmode\u001b[49m\u001b[43m,\u001b[49m\u001b[43m \u001b[49m\u001b[38;5;241;43m*\u001b[39;49m\u001b[38;5;241;43m*\u001b[39;49m\u001b[43mkwargs\u001b[49m\u001b[43m)\u001b[49m \u001b[38;5;28;01mas\u001b[39;00m fp:\n\u001b[1;32m     73\u001b[0m         \u001b[38;5;28;01myield\u001b[39;00m fp\n\u001b[1;32m     74\u001b[0m \u001b[38;5;28;01mexcept\u001b[39;00m \u001b[38;5;167;01mTypeError\u001b[39;00m:\n",
      "\u001b[0;31mFileNotFoundError\u001b[0m: [Errno 2] No such file or directory: 'non'"
     ]
    },
    {
     "name": "stdout",
     "output_type": "stream",
     "text": [
      "\u001b[?25h\u001b[?25h\u001b[?25h\u001b[?25hError in open.connection(con, \"rb\") : cannot open the connection\n",
      "Calls: suppressMessages ... withCallingHandlers -> <Anonymous> -> open -> open.connection\n",
      "Execution halted\n",
      "\u001b[?25h"
     ]
    },
    {
     "ename": "FileNotFoundError",
     "evalue": "[Errno 2] No such file or directory: '/Users/chenjingyu/Desktop/vscode/mdelta_full/result/non_non_top0_diff0_pv-1.0_miv-1.0_mav2.0_mg100.0.json'",
     "output_type": "error",
     "traceback": [
      "\u001b[0;31m---------------------------------------------------------------------------\u001b[0m",
      "\u001b[0;31mFileNotFoundError\u001b[0m                         Traceback (most recent call last)",
      "File \u001b[0;32m~/Desktop/vscode/mdelta_full/feature/network.py:30\u001b[0m\n\u001b[1;32m     27\u001b[0m \u001b[38;5;28;01mif\u001b[39;00m \u001b[38;5;129;01mnot\u001b[39;00m os\u001b[38;5;241m.\u001b[39mpath\u001b[38;5;241m.\u001b[39mexists(folder):\n\u001b[1;32m     28\u001b[0m     os\u001b[38;5;241m.\u001b[39mmakedirs(folder)\n\u001b[0;32m---> 30\u001b[0m \u001b[38;5;28;01mwith\u001b[39;00m \u001b[38;5;28;43mopen\u001b[39;49m\u001b[43m(\u001b[49m\u001b[43msys\u001b[49m\u001b[38;5;241;43m.\u001b[39;49m\u001b[43margv\u001b[49m\u001b[43m[\u001b[49m\u001b[38;5;241;43m1\u001b[39;49m\u001b[43m]\u001b[49m\u001b[43m,\u001b[49m\u001b[38;5;124;43m'\u001b[39;49m\u001b[38;5;124;43mr\u001b[39;49m\u001b[38;5;124;43m'\u001b[39;49m\u001b[43m,\u001b[49m\u001b[43mencoding\u001b[49m\u001b[38;5;241;43m=\u001b[39;49m\u001b[38;5;124;43m'\u001b[39;49m\u001b[38;5;124;43mutf8\u001b[39;49m\u001b[38;5;124;43m'\u001b[39;49m\u001b[43m)\u001b[49m \u001b[38;5;28;01mas\u001b[39;00m fp1:\n\u001b[1;32m     31\u001b[0m     json_dataA1G11 \u001b[38;5;241m=\u001b[39m json\u001b[38;5;241m.\u001b[39mload(fp1) \n\u001b[1;32m     32\u001b[0m \u001b[38;5;28;01mif\u001b[39;00m \u001b[38;5;28mlen\u001b[39m(sys\u001b[38;5;241m.\u001b[39margv) \u001b[38;5;241m==\u001b[39m \u001b[38;5;241m4\u001b[39m \u001b[38;5;129;01mand\u001b[39;00m sys\u001b[38;5;241m.\u001b[39margv[\u001b[38;5;241m2\u001b[39m] \u001b[38;5;241m!=\u001b[39m \u001b[38;5;124m'\u001b[39m\u001b[38;5;124mnon\u001b[39m\u001b[38;5;124m'\u001b[39m \u001b[38;5;129;01mand\u001b[39;00m sys\u001b[38;5;241m.\u001b[39margv[\u001b[38;5;241m3\u001b[39m] \u001b[38;5;241m!=\u001b[39m \u001b[38;5;124m'\u001b[39m\u001b[38;5;124mnon\u001b[39m\u001b[38;5;124m'\u001b[39m:\n",
      "\u001b[0;31mFileNotFoundError\u001b[0m: [Errno 2] No such file or directory: '/Users/chenjingyu/Desktop/vscode/mdelta_full/result/non_non_top0_diff0_pv-1.0_miv-1.0_mav2.0_mg100.0.json'"
     ]
    },
    {
     "name": "stdout",
     "output_type": "stream",
     "text": [
      "\u001b[?25h\u001b[?25h\u001b[?25h\u001b[?25hError in open.connection(con, \"rb\") : cannot open the connection\n",
      "Calls: suppressMessages ... withCallingHandlers -> <Anonymous> -> open -> open.connection\n",
      "Execution halted\n",
      "\u001b[?25h\u001b[?25h\u001b[?25h\u001b[?25h\u001b[?25hError in open.connection(con, \"rb\") : cannot open the connection\n",
      "Calls: suppressMessages ... withCallingHandlers -> <Anonymous> -> open -> open.connection\n",
      "Execution halted\n",
      "\u001b[?25hmDELTA OK!!!\n"
     ]
    }
   ],
   "source": [
    "TREE,TREE2,N2T,N2T2,XScoreFile,LScoreFile,top,mavv,mavvstep,mivv,mivvstep,ps,psstep,tqdm,n,mg,mgstep,xs,xsstep,o,PERM,cpu,mdelta,match_tree,network,densitree,da,dcc,pper = get_listvalue(myargs.values())\n",
    "output = get_output(o)\n",
    "notebook, Tqdm = TF_to_10(n, tqdm)\n",
    "for ma in forlist(mavv[0], mavv[1], mavvstep):\n",
    "    ma = float(\"{:.2f}\".format(ma))\n",
    "    for mi in forlist(mivv[0], mivv[1], mivvstep):\n",
    "        mi = float(\"{:.2f}\".format(mi))\n",
    "        for p in forlist(ps[0], ps[1], psstep):\n",
    "            p = float(\"{:.2f}\".format(p))\n",
    "            for mgg in forlist(mg[0], mg[1], mgstep):\n",
    "                mgg = float(\"{:.2f}\".format(mgg))\n",
    "                for diffs in forlist(xs[0], xs[1], xsstep):\n",
    "                    %run $mdelta $TREE $TREE2 -nt $N2T -nt2 $N2T2 -xsd $XScoreFile -lsd $LScoreFile -t $top -ma $ma -mi $mi -p $p -T $Tqdm -n $notebook -mg $mgg -x $diffs -o $output -P $PERM -c $cpu -pper $pper\n",
    "                    if not PERM > 0:\n",
    "                        mdelta_json = output + '{}_{}_top{}_diff{}_pv{}_miv{}_mav{}_mg{}.json'.format(os.path.basename(TREE).split('.')[0], os.path.basename(TREE2).split('.')[0], top, str(diffs),  str(p), str(mi), str(ma), str(mgg))\n",
    "                        !Rscript $match_tree $mdelta_json $XScoreFile $output $LScoreFile $mi\n",
    "                        %run $network $mdelta_json $output\n",
    "                        !Rscript $densitree $mdelta_json $output $dcc\n",
    "                        !Rscript $da $mdelta_json $output $dcc\n",
    "print('mDELTA OK!!!')"
   ]
  },
  {
   "cell_type": "code",
   "execution_count": 4,
   "id": "21a0c1db-4749-4a6d-97cb-404083d4e0e0",
   "metadata": {},
   "outputs": [
    {
     "name": "stdout",
     "output_type": "stream",
     "text": [
      "usage: mDELTA [-h] [-nt [NAME2TYPEFILE]] [-nt2 [NAME2TYPEFILE2]]\n",
      "              [-xsd [XSCOREDICTFILE]] [-lsd [LSCOREDICTFILE]] [-t TOP]\n",
      "              [-ma MAV] [-mi MIV] [-p PV] [-pper PRUNEPERCENT] [-T TQDM]\n",
      "              [-n NOTEBOOK] [-P PERM] [-a ALG] [-c CPUS] [-o [OUTPUT]]\n",
      "              [-mg MERGE] [-x DIFF]\n",
      "              TreeSeqFile TreeSeqFile2\n",
      "\n",
      "Multifuricating Developmental cEll Lineage Tree Alignment(mDELTA)\n",
      "\n",
      "positional arguments:\n",
      "  TreeSeqFile           [path/filename] A text file storing cell lineage tree\n",
      "                        #1 in newick format. Tips can be labeled by name or\n",
      "                        cell type. Branch lengths should be removed.\n",
      "  TreeSeqFile2          [path/filename] A text file storing cell lineage tree\n",
      "                        #2 in newick format. Tips can be labeled by name or\n",
      "                        cell type. Branch lengths should be removed.\n",
      "\n",
      "optional arguments:\n",
      "  -h, --help            show this help message and exit\n",
      "  -nt [NAME2TYPEFILE], --Name2TypeFile [NAME2TYPEFILE]\n",
      "                        [path/filename] List of correspondance between tip\n",
      "                        name and cell type for cell lineage tree #1.\n",
      "  -nt2 [NAME2TYPEFILE2], --Name2TypeFile2 [NAME2TYPEFILE2]\n",
      "                        [path/filename] List of correspondance between tip\n",
      "                        name and cell type for cell lineage tree #2.\n",
      "  -xsd [XSCOREDICTFILE], --XScoreDictFile [XSCOREDICTFILE]\n",
      "                        [path/filename] A comma-delimited text file used to\n",
      "                        determine similarity scores between cells. If there\n",
      "                        are exactly three columns, they will be interpreted as\n",
      "                        (1) the cell (name or type) in Tree #1, (2) the cell\n",
      "                        in Tree #2, and (3) the similarity score. If\n",
      "                        otherwise, the first column will be interpreted as the\n",
      "                        cell (name or type) and the remaining columns as\n",
      "                        features of the cell (e.g. expression of a gene). The\n",
      "                        similarity scores will be estimated between all pairs\n",
      "                        of cells based on the Euclidean distance calculated\n",
      "                        using all the features. Overrides `-ma` and `-mi`.\n",
      "  -lsd [LSCOREDICTFILE], --LScoreDictFile [LSCOREDICTFILE]\n",
      "                        [path/filename] A score matrix where row names\n",
      "                        represent the names of all leaf nodes in the first\n",
      "                        tree, column names represent the names of all leaf\n",
      "                        nodes in the second tree, and the corresponding score\n",
      "                        values in the column and column spaces represent their\n",
      "                        matching scores.\n",
      "  -t TOP, --top TOP     [int > 0] Performs local (instead of global)\n",
      "                        alignment, and output the top NUM local alignments\n",
      "                        with the highest score (e.g. `-t 10`). In the case of\n",
      "                        global alignment, this parameter should be omitted.\n",
      "  -ma MAV, --mav MAV    [float] Default=2.\n",
      "  -mi MIV, --miv MIV    [float] Default=-1. Shorthand for a simple matching\n",
      "                        score scheme, where the matching score between a pair\n",
      "                        of the same cell types is MAV and all other pairs are\n",
      "                        MIV. (e.g. `-ma 2 -mi -2`). Overridden by `-sd`.\n",
      "  -p PV, --pv PV        [float] The score for pruning a tip of the tree (e.g.\n",
      "                        `-p -2`). Default to -1.\n",
      "  -pper PRUNEPERCENT, --prunepercent PRUNEPERCENT\n",
      "                        [float] The comparison result requires either party's\n",
      "                        pruning rate to be less than or equal to PPER. The\n",
      "                        pruning rate is the proportion of pruned leaf nodes to\n",
      "                        all leaf nodes in the subtree. Default to 20.\n",
      "  -T TQDM, --Tqdm TQDM  [0(off) or 1(on)] Toggle for the jupyter notebook\n",
      "                        environment.\n",
      "  -n NOTEBOOK, --notebook NOTEBOOK\n",
      "                        [0(off) or 1(on)] Toggle for the jupyter notebook\n",
      "                        environment.\n",
      "  -P PERM, --PERM PERM  [int > 0] Toggle for the statistical significance. For\n",
      "                        each observed alignment, the aligned trees will be\n",
      "                        permuted PERM times to generate a null distribution of\n",
      "                        alignment scores, with which a P value can be\n",
      "                        calculated for the observed alignment score.\n",
      "  -a ALG, --Alg ALG     [KM / GA] Use Kuhn-Munkres or Greedy Algorithm to find\n",
      "                        the optimal alignment score.\n",
      "  -c CPUS, --CPUs CPUS  [int > 0] Number of threads for multi-processing.\n",
      "                        Default to 50., it can reach the maximum number of\n",
      "                        local CPU cores - 1.\n",
      "  -o [OUTPUT], --output [OUTPUT]\n",
      "                        [path] Output path, eg:'/home/username'\n",
      "  -mg MERGE, --merge MERGE\n",
      "                        [float] This is the scaling factor for calculating the\n",
      "                        score of merging an internal node (e.g. -mg -1), which\n",
      "                        is multiplied by the number of tips of the internal\n",
      "                        node to be merged. Default to 100.\n",
      "  -x DIFF, --diff DIFF  [int > 0] Alignment must consist of a minimal of DIFF\n",
      "                        percent aligned cell pairs that are different from\n",
      "                        previous(better) local alignments in order to be\n",
      "                        considered as another new alignment (e.g. `-x 20`\n",
      "                        means 20 percent).\n",
      "\n",
      "More details on https://github.com/Chenjy0212/modelta\n"
     ]
    }
   ],
   "source": [
    "%run $mdelta -h"
   ]
  },
  {
   "cell_type": "code",
   "execution_count": null,
   "id": "137cd09d-4357-4b9e-ac86-22ec8447a1cc",
   "metadata": {},
   "outputs": [],
   "source": []
  }
 ],
 "metadata": {
  "kernelspec": {
   "display_name": "Python 3 (ipykernel)",
   "language": "python",
   "name": "python3"
  },
  "language_info": {
   "codemirror_mode": {
    "name": "ipython",
    "version": 3
   },
   "file_extension": ".py",
   "mimetype": "text/x-python",
   "name": "python",
   "nbconvert_exporter": "python",
   "pygments_lexer": "ipython3",
   "version": "3.9.6"
  },
  "widgets": {
   "application/vnd.jupyter.widget-state+json": {
    "state": {},
    "version_major": 2,
    "version_minor": 0
   }
  }
 },
 "nbformat": 4,
 "nbformat_minor": 5
}
