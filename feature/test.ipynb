{
 "cells": [
  {
   "cell_type": "code",
   "execution_count": 8,
   "id": "792d5249-4133-4059-9f90-e6934f244e33",
   "metadata": {
    "execution": {
     "iopub.execute_input": "2023-06-05T11:04:44.337642Z",
     "iopub.status.busy": "2023-06-05T11:04:44.337013Z",
     "iopub.status.idle": "2023-06-05T11:04:44.346050Z",
     "shell.execute_reply": "2023-06-05T11:04:44.344464Z",
     "shell.execute_reply.started": "2023-06-05T11:04:44.337592Z"
    },
    "tags": []
   },
   "outputs": [],
   "source": [
    "import os\n",
    "\n",
    "dirs = 'network'\n",
    "if not os.path.exists(dirs):\n",
    "    os.makedirs(dirs)"
   ]
  },
  {
   "cell_type": "code",
   "execution_count": 10,
   "id": "4f57f160-2d59-4a77-b2d1-b8bbdc243379",
   "metadata": {
    "execution": {
     "iopub.execute_input": "2023-06-16T03:27:34.713869Z",
     "iopub.status.busy": "2023-06-16T03:27:34.713239Z",
     "iopub.status.idle": "2023-06-16T03:27:39.869060Z",
     "shell.execute_reply": "2023-06-16T03:27:39.868078Z",
     "shell.execute_reply.started": "2023-06-16T03:27:34.713806Z"
    },
    "tags": []
   },
   "outputs": [
    {
     "name": "stdout",
     "output_type": "stream",
     "text": [
      "usage: mDELTA [-h] [-nt NAME2TYPEFILE] [-nt2 NAME2TYPEFILE2]\n",
      "              [-sd SCOREDICTFILE] [-sd1 SCOREDICTFILE1] [-sd2 SCOREDICTFILE2]\n",
      "              [-pp PRUNEPERCENT] [-t TOP] [-ma MAV] [-mi MIV] [-p PV]\n",
      "              [-T TQDM] [-n NOTEBOOK] [-P PERM] [-a ALG] [-c CPUS] [-o OUTPUT]\n",
      "              [-mg MERGE] [-x DIFF]\n",
      "              TreeSeqFile TreeSeqFile2\n",
      "\n",
      "Multifuricating Developmental cEll Lineage Tree Alignment(mDELTA)\n",
      "\n",
      "positional arguments:\n",
      "  TreeSeqFile           [path/filename] A text file storing cell lineage tree\n",
      "                        #1 in newick format. Tips can be labeled by name or\n",
      "                        cell type. Branch lengths should be removed.\n",
      "  TreeSeqFile2          [path/filename] A text file storing cell lineage tree\n",
      "                        #2 in newick format. Tips can be labeled by name or\n",
      "                        cell type. Branch lengths should be removed.\n",
      "\n",
      "optional arguments:\n",
      "  -h, --help            show this help message and exit\n",
      "  -nt NAME2TYPEFILE, --Name2TypeFile NAME2TYPEFILE\n",
      "                        [path/filename] List of correspondance between tip\n",
      "                        name and cell type for cell lineage tree #1.\n",
      "  -nt2 NAME2TYPEFILE2, --Name2TypeFile2 NAME2TYPEFILE2\n",
      "                        [path/filename] List of correspondance between tip\n",
      "                        name and cell type for cell lineage tree #2.\n",
      "  -sd SCOREDICTFILE, --ScoreDictFile SCOREDICTFILE\n",
      "                        [path/filename] A comma-delimited text file used to\n",
      "                        determine similarity scores between cells. If there\n",
      "                        are exactly three columns, they will be interpreted as\n",
      "                        (1) the cell (name or type) in Tree #1, (2) the cell\n",
      "                        in Tree #2, and (3) the similarity score. If\n",
      "                        otherwise, the first column will be interpreted as the\n",
      "                        cell (name or type) and the remaining columns as\n",
      "                        features of the cell (e.g. expression of a gene). The\n",
      "                        similarity scores will be estimated between all pairs\n",
      "                        of cells based on the Euclidean distance calculated\n",
      "                        using all the features. Overrides `-ma` and `-mi`.\n",
      "  -sd1 SCOREDICTFILE1, --ScoreDictFile1 SCOREDICTFILE1\n",
      "                        to be continued\n",
      "  -sd2 SCOREDICTFILE2, --ScoreDictFile2 SCOREDICTFILE2\n",
      "                        to be continued\n",
      "  -pp PRUNEPERCENT, --PrunePercent PRUNEPERCENT\n",
      "                        to be continued\n",
      "  -t TOP, --top TOP     [int > 0] Performs local (instead of global)\n",
      "                        alignment, and output the top NUM local alignments\n",
      "                        with the highest score (e.g. `-t 10`). In the case of\n",
      "                        global alignment, this parameter should be omitted.\n",
      "  -ma MAV, --mav MAV    [float] Default=2.\n",
      "  -mi MIV, --miv MIV    [float] Default=-1. Shorthand for a simple matching\n",
      "                        score scheme, where the matching score between a pair\n",
      "                        of the same cell types is MAV and all other pairs are\n",
      "                        MIV. (e.g. `-ma 2 -mi -2`). Overridden by `-sd`.\n",
      "  -p PV, --pv PV        [float] The score for pruning a tip of the tree (e.g.\n",
      "                        `-p -2`). Default to -1.\n",
      "  -T TQDM, --Tqdm TQDM  [0(off) or 1(on)] Toggle for the jupyter notebook\n",
      "                        environment.\n",
      "  -n NOTEBOOK, --notebook NOTEBOOK\n",
      "                        [0(off) or 1(on)] Toggle for the jupyter notebook\n",
      "                        environment.\n",
      "  -P PERM, --PERM PERM  [int > 0] Toggle for the statistical significance. For\n",
      "                        each observed alignment, the aligned trees will be\n",
      "                        permuted PERM times to generate a null distribution of\n",
      "                        alignment scores, with which a P value can be\n",
      "                        calculated for the observed alignment score.\n",
      "  -a ALG, --Alg ALG     [KM / GA] Use Kuhn-Munkres or Greedy Algorithm to find\n",
      "                        the optimal alignment score.\n",
      "  -c CPUS, --CPUs CPUS  [int > 0] Number of threads for multi-processing.\n",
      "                        Default to 50., it can reach the maximum number of\n",
      "                        local CPU cores - 1.\n",
      "  -o OUTPUT, --output OUTPUT\n",
      "                        [path] Output path, eg:'/home/username'\n",
      "  -mg MERGE, --merge MERGE\n",
      "                        [float] This is the scaling factor for calculating the\n",
      "                        score of merging an internal node (e.g. -mg -1), which\n",
      "                        is multiplied by the number of tips of the internal\n",
      "                        node to be merged. Default to 0.\n",
      "  -x DIFF, --diff DIFF  [int > 0] Alignment must consist of a minimal of DIFF\n",
      "                        percent aligned cell pairs that are different from\n",
      "                        previous(better) local alignments in order to be\n",
      "                        considered as another new alignment (e.g. `-x 20`\n",
      "                        means 20 percent).\n",
      "\n",
      "More details on https://github.com/Chenjy0212/modelta\n"
     ]
    }
   ],
   "source": [
    "%run /home/ee_while/mdelta/mdelta/mDELTA.py -h"
   ]
  },
  {
   "cell_type": "code",
   "execution_count": null,
   "id": "fef15cb3-7ca4-43ee-b725-0104f9d97acb",
   "metadata": {},
   "outputs": [],
   "source": []
  }
 ],
 "metadata": {
  "kernelspec": {
   "display_name": "Python3",
   "language": "python",
   "name": "python3"
  },
  "language_info": {
   "codemirror_mode": {
    "name": "ipython",
    "version": 3
   },
   "file_extension": ".py",
   "mimetype": "text/x-python",
   "name": "python",
   "nbconvert_exporter": "python",
   "pygments_lexer": "ipython3",
   "version": "3.11.4"
  },
  "widgets": {
   "application/vnd.jupyter.widget-state+json": {
    "state": {},
    "version_major": 2,
    "version_minor": 0
   }
  }
 },
 "nbformat": 4,
 "nbformat_minor": 5
}
